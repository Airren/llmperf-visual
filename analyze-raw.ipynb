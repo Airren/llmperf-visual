{
 "cells": [
  {
   "cell_type": "code",
   "execution_count": 1,
   "id": "dacfe98a-e81b-4089-9506-97a652993b5b",
   "metadata": {
    "tags": []
   },
   "outputs": [],
   "source": [
    "import pandas as pd\n",
    "import time\n",
    "import datetime\n"
   ]
  },
  {
   "cell_type": "code",
   "execution_count": 2,
   "id": "17f7abe9-ed9e-466c-b034-577489aaf98b",
   "metadata": {
    "tags": []
   },
   "outputs": [],
   "source": [
    "df = pd.read_json('anyscale-1697229546_raw.json')"
   ]
  },
  {
   "cell_type": "code",
   "execution_count": 3,
   "id": "56da958f-694d-4e3e-a559-a275ae22d5d4",
   "metadata": {
    "tags": []
   },
   "outputs": [
    {
     "name": "stdout",
     "output_type": "stream",
     "text": [
      "Validity results:\n",
      "Exception    206\n",
      "OK            94\n",
      "Name: valid, dtype: int64\n",
      "Clean DF is: 94\n",
      "Mean TTFT: 6217 ms (mean tokens in: 492, out: 138)\n",
      "TTFT > 3 s: 3.19%\n",
      "ITL (out): 61.86 ms/token, mean tokens/s output (out): 16.30 token/s\n"
     ]
    }
   ],
   "source": [
    "# This is the standard analysis we would do in the real script\n",
    "\n",
    "print('Validity results:')\n",
    "print(df['valid'].value_counts())\n",
    "cdf = df[df.valid !='Exception'].copy()\n",
    "print(f'Clean DF is: {len(cdf)}')\n",
    "cdf['inter_tokens_delay'] = (cdf.total_time-cdf.ttft)/cdf.tokens_out\n",
    "cdf['total_tokens_per_s'] = (cdf.tokens_out + cdf.tokens_in)/cdf.total_time\n",
    "cdf['out_tokens_per_s'] = cdf.tokens_out/(cdf.total_time-cdf.ttft)\n",
    "mean_tokens_in = cdf['tokens_in'].mean() \n",
    "mean_tokens_out = cdf['tokens_out'].mean() \n",
    "mean_ttft = cdf['ttft'].mean()\n",
    "gt_3_ttft = len(cdf[cdf['ttft'] > 3])/len(cdf)\n",
    "print(f'Mean TTFT: {mean_ttft*1000:.0f} ms (mean tokens in: {mean_tokens_in:.0f}, out: {mean_tokens_out:.0f})')\n",
    "print(f'TTFT > 3 s: {gt_3_ttft*100:.2f}%')\n",
    "print(f'ITL (out): {cdf.inter_tokens_delay.mean()*1000:.2f} ms/token, mean tokens/s output (out): {cdf.out_tokens_per_s.mean():.2f} token/s')\n"
   ]
  },
  {
   "cell_type": "code",
   "execution_count": 4,
   "id": "99936985-a21f-4738-9021-f9db8d67769a",
   "metadata": {
    "tags": []
   },
   "outputs": [
    {
     "data": {
      "text/plain": [
       "94"
      ]
     },
     "execution_count": 4,
     "metadata": {},
     "output_type": "execute_result"
    }
   ],
   "source": [
    "len(cdf)"
   ]
  },
  {
   "cell_type": "code",
   "execution_count": 8,
   "id": "4f5db74b-63ab-4268-b1a7-10b14641efb1",
   "metadata": {
    "tags": []
   },
   "outputs": [
    {
     "data": {
      "text/plain": [
       "<Axes: xlabel='tokens_in', ylabel='ttft'>"
      ]
     },
     "execution_count": 8,
     "metadata": {},
     "output_type": "execute_result"
    },
    {
     "data": {
      "image/png": "[encoded data removed]",
      "text/plain": [
       "<Figure size 640x480 with 1 Axes>"
      ]
     },
     "metadata": {},
     "output_type": "display_data"
    }
   ],
   "source": [
    "cdf.plot.scatter(y='ttft', x='tokens_in', ylim=[0,3])"
   ]
  },
  {
   "cell_type": "code",
   "execution_count": 11,
   "id": "f08d9085-d994-4754-a545-390cad1f4806",
   "metadata": {
    "tags": []
   },
   "outputs": [
    {
     "data": {
      "text/plain": [
       "<Axes: xlabel='tokens_out', ylabel='total_time'>"
      ]
     },
     "execution_count": 11,
     "metadata": {},
     "output_type": "execute_result"
    },
    {
     "data": {
      "image/png": "[encoded data removed]",
      "text/plain": [
       "<Figure size 640x480 with 1 Axes>"
      ]
     },
     "metadata": {},
     "output_type": "display_data"
    }
   ],
   "source": [
    "cdf.plot.scatter(y='total_time', x='tokens_out', ylim=[0,10])"
   ]
  },
  {
   "cell_type": "code",
   "execution_count": 10,
   "id": "6f520389-aea3-4f0f-a23a-9094b57251c8",
   "metadata": {
    "tags": []
   },
   "outputs": [
    {
     "data": {
      "text/html": [
       "<div>\n",
       "<style scoped>\n",
       "    .dataframe tbody tr th:only-of-type {\n",
       "        vertical-align: middle;\n",
       "    }\n",
       "\n",
       "    .dataframe tbody tr th {\n",
       "        vertical-align: top;\n",
       "    }\n",
       "\n",
       "    .dataframe thead th {\n",
       "        text-align: right;\n",
       "    }\n",
       "</style>\n",
       "<table border=\"1\" class=\"dataframe\">\n",
       "  <thead>\n",
       "    <tr style=\"text-align: right;\">\n",
       "      <th></th>\n",
       "      <th>ttft</th>\n",
       "      <th>total_time</th>\n",
       "      <th>tokens_in</th>\n",
       "      <th>tokens_out</th>\n",
       "      <th>total_tokens_per_s</th>\n",
       "      <th>out_tokens_per_s</th>\n",
       "    </tr>\n",
       "  </thead>\n",
       "  <tbody>\n",
       "    <tr>\n",
       "      <th>count</th>\n",
       "      <td>251.000000</td>\n",
       "      <td>251.000000</td>\n",
       "      <td>251.000000</td>\n",
       "      <td>251.000000</td>\n",
       "      <td>251.000000</td>\n",
       "      <td>251.000000</td>\n",
       "    </tr>\n",
       "    <tr>\n",
       "      <th>mean</th>\n",
       "      <td>0.538204</td>\n",
       "      <td>7.139723</td>\n",
       "      <td>497.976096</td>\n",
       "      <td>111.127490</td>\n",
       "      <td>86.219960</td>\n",
       "      <td>17.070216</td>\n",
       "    </tr>\n",
       "    <tr>\n",
       "      <th>std</th>\n",
       "      <td>0.194557</td>\n",
       "      <td>0.919428</td>\n",
       "      <td>140.339672</td>\n",
       "      <td>7.842938</td>\n",
       "      <td>21.740809</td>\n",
       "      <td>2.110613</td>\n",
       "    </tr>\n",
       "    <tr>\n",
       "      <th>min</th>\n",
       "      <td>0.293696</td>\n",
       "      <td>5.315840</td>\n",
       "      <td>249.000000</td>\n",
       "      <td>88.000000</td>\n",
       "      <td>47.120633</td>\n",
       "      <td>11.908753</td>\n",
       "    </tr>\n",
       "    <tr>\n",
       "      <th>25%</th>\n",
       "      <td>0.411385</td>\n",
       "      <td>6.499027</td>\n",
       "      <td>378.500000</td>\n",
       "      <td>106.000000</td>\n",
       "      <td>69.410502</td>\n",
       "      <td>15.485005</td>\n",
       "    </tr>\n",
       "    <tr>\n",
       "      <th>50%</th>\n",
       "      <td>0.506000</td>\n",
       "      <td>6.999253</td>\n",
       "      <td>497.000000</td>\n",
       "      <td>110.000000</td>\n",
       "      <td>84.039700</td>\n",
       "      <td>17.042858</td>\n",
       "    </tr>\n",
       "    <tr>\n",
       "      <th>75%</th>\n",
       "      <td>0.608667</td>\n",
       "      <td>7.719068</td>\n",
       "      <td>621.500000</td>\n",
       "      <td>115.000000</td>\n",
       "      <td>99.967552</td>\n",
       "      <td>18.275836</td>\n",
       "    </tr>\n",
       "    <tr>\n",
       "      <th>max</th>\n",
       "      <td>2.092355</td>\n",
       "      <td>9.898334</td>\n",
       "      <td>738.000000</td>\n",
       "      <td>136.000000</td>\n",
       "      <td>145.170690</td>\n",
       "      <td>22.101830</td>\n",
       "    </tr>\n",
       "  </tbody>\n",
       "</table>\n",
       "</div>"
      ],
      "text/plain": [
       "             ttft  total_time   tokens_in  tokens_out  total_tokens_per_s  \\\n",
       "count  251.000000  251.000000  251.000000  251.000000          251.000000   \n",
       "mean     0.538204    7.139723  497.976096  111.127490           86.219960   \n",
       "std      0.194557    0.919428  140.339672    7.842938           21.740809   \n",
       "min      0.293696    5.315840  249.000000   88.000000           47.120633   \n",
       "25%      0.411385    6.499027  378.500000  106.000000           69.410502   \n",
       "50%      0.506000    6.999253  497.000000  110.000000           84.039700   \n",
       "75%      0.608667    7.719068  621.500000  115.000000           99.967552   \n",
       "max      2.092355    9.898334  738.000000  136.000000          145.170690   \n",
       "\n",
       "       out_tokens_per_s  \n",
       "count        251.000000  \n",
       "mean          17.070216  \n",
       "std            2.110613  \n",
       "min           11.908753  \n",
       "25%           15.485005  \n",
       "50%           17.042858  \n",
       "75%           18.275836  \n",
       "max           22.101830  "
      ]
     },
     "execution_count": 10,
     "metadata": {},
     "output_type": "execute_result"
    }
   ],
   "source": [
    "cdf.describe()"
   ]
  },
  {
   "cell_type": "code",
   "execution_count": 11,
   "id": "81c9cdee-028f-448b-9179-04aa758e4f37",
   "metadata": {
    "tags": []
   },
   "outputs": [
    {
     "data": {
      "text/plain": [
       "<Axes: ylabel='Frequency'>"
      ]
     },
     "execution_count": 11,
     "metadata": {},
     "output_type": "execute_result"
    },
    {
     "data": {
      "image/png": "[encoded data removed]",
      "text/plain": [
       "<Figure size 640x480 with 1 Axes>"
      ]
     },
     "metadata": {},
     "output_type": "display_data"
    }
   ],
   "source": [
    "cdf['ttft'].plot.hist(bins=50)"
   ]
  },
  {
   "cell_type": "code",
   "execution_count": 28,
   "id": "cd59c882",
   "metadata": {
    "tags": []
   },
   "outputs": [
    {
     "data": {
      "text/plain": [
       "[\"Invalid response object from API: '' (HTTP response code was 404)\",\n",
       " \"Invalid response object from API: '' (HTTP response code was 404)\",\n",
       " \"Invalid response object from API: '' (HTTP response code was 404)\",\n",
       " \"Invalid response object from API: '' (HTTP response code was 404)\",\n",
       " \"Invalid response object from API: '' (HTTP response code was 404)\",\n",
       " \"Invalid response object from API: '' (HTTP response code was 404)\",\n",
       " \"Invalid response object from API: '' (HTTP response code was 404)\",\n",
       " \"Invalid response object from API: '' (HTTP response code was 404)\",\n",
       " \"Invalid response object from API: '' (HTTP response code was 404)\",\n",
       " \"Invalid response object from API: '' (HTTP response code was 404)\",\n",
       " \"Invalid response object from API: '' (HTTP response code was 404)\",\n",
       " \"Invalid response object from API: '' (HTTP response code was 404)\",\n",
       " \"Invalid response object from API: '' (HTTP response code was 404)\",\n",
       " \"Invalid response object from API: '' (HTTP response code was 404)\",\n",
       " \"Invalid response object from API: '' (HTTP response code was 404)\",\n",
       " \"Invalid response object from API: '' (HTTP response code was 404)\",\n",
       " \"Invalid response object from API: '' (HTTP response code was 404)\",\n",
       " \"Invalid response object from API: '' (HTTP response code was 404)\",\n",
       " \"Invalid response object from API: '' (HTTP response code was 404)\",\n",
       " \"Invalid response object from API: '' (HTTP response code was 404)\",\n",
       " \"Invalid response object from API: '' (HTTP response code was 404)\",\n",
       " \"Invalid response object from API: '' (HTTP response code was 404)\",\n",
       " \"Invalid response object from API: '' (HTTP response code was 404)\",\n",
       " \"Invalid response object from API: '' (HTTP response code was 404)\",\n",
       " \"Invalid response object from API: '' (HTTP response code was 404)\",\n",
       " \"Invalid response object from API: '' (HTTP response code was 404)\",\n",
       " \"Invalid response object from API: '' (HTTP response code was 404)\",\n",
       " \"Invalid response object from API: '' (HTTP response code was 404)\",\n",
       " \"Invalid response object from API: '' (HTTP response code was 404)\",\n",
       " \"Invalid response object from API: '' (HTTP response code was 404)\",\n",
       " \"Invalid response object from API: '' (HTTP response code was 404)\",\n",
       " \"Invalid response object from API: '' (HTTP response code was 404)\",\n",
       " \"Invalid response object from API: '' (HTTP response code was 404)\",\n",
       " \"Invalid response object from API: '' (HTTP response code was 404)\",\n",
       " \"Invalid response object from API: '' (HTTP response code was 404)\",\n",
       " \"Invalid response object from API: '' (HTTP response code was 404)\",\n",
       " \"Invalid response object from API: '' (HTTP response code was 404)\",\n",
       " \"Invalid response object from API: '' (HTTP response code was 404)\",\n",
       " \"Invalid response object from API: '' (HTTP response code was 404)\",\n",
       " \"Invalid response object from API: '' (HTTP response code was 404)\",\n",
       " \"Invalid response object from API: '' (HTTP response code was 404)\",\n",
       " \"Invalid response object from API: '' (HTTP response code was 404)\",\n",
       " \"Invalid response object from API: '' (HTTP response code was 404)\",\n",
       " \"Invalid response object from API: '' (HTTP response code was 404)\",\n",
       " \"Invalid response object from API: '' (HTTP response code was 404)\",\n",
       " \"Invalid response object from API: '' (HTTP response code was 404)\",\n",
       " \"Invalid response object from API: '' (HTTP response code was 404)\",\n",
       " \"Invalid response object from API: '' (HTTP response code was 404)\",\n",
       " \"Invalid response object from API: '' (HTTP response code was 404)\",\n",
       " \"Invalid response object from API: '' (HTTP response code was 404)\",\n",
       " \"Invalid response object from API: '' (HTTP response code was 404)\",\n",
       " \"Invalid response object from API: '' (HTTP response code was 404)\",\n",
       " \"Invalid response object from API: '' (HTTP response code was 404)\",\n",
       " \"Invalid response object from API: '' (HTTP response code was 404)\",\n",
       " \"Invalid response object from API: '' (HTTP response code was 404)\",\n",
       " \"Invalid response object from API: '' (HTTP response code was 404)\",\n",
       " \"Invalid response object from API: '' (HTTP response code was 404)\",\n",
       " \"Invalid response object from API: '' (HTTP response code was 404)\",\n",
       " \"Invalid response object from API: '' (HTTP response code was 404)\",\n",
       " \"Invalid response object from API: '' (HTTP response code was 404)\",\n",
       " \"Invalid response object from API: '' (HTTP response code was 404)\",\n",
       " \"Invalid response object from API: '' (HTTP response code was 404)\",\n",
       " \"Invalid response object from API: '' (HTTP response code was 404)\",\n",
       " \"Invalid response object from API: '' (HTTP response code was 404)\",\n",
       " \"Invalid response object from API: '' (HTTP response code was 404)\",\n",
       " \"Invalid response object from API: '' (HTTP response code was 404)\",\n",
       " \"Invalid response object from API: '' (HTTP response code was 404)\",\n",
       " \"Invalid response object from API: '' (HTTP response code was 404)\",\n",
       " \"Invalid response object from API: '' (HTTP response code was 404)\",\n",
       " \"Invalid response object from API: '' (HTTP response code was 404)\",\n",
       " \"Invalid response object from API: '' (HTTP response code was 404)\",\n",
       " \"Invalid response object from API: '' (HTTP response code was 404)\",\n",
       " \"Invalid response object from API: '' (HTTP response code was 404)\",\n",
       " \"Invalid response object from API: '' (HTTP response code was 404)\",\n",
       " \"Invalid response object from API: '' (HTTP response code was 404)\",\n",
       " \"Invalid response object from API: '' (HTTP response code was 404)\",\n",
       " \"Invalid response object from API: '' (HTTP response code was 404)\",\n",
       " \"Invalid response object from API: '' (HTTP response code was 404)\",\n",
       " \"Invalid response object from API: '' (HTTP response code was 404)\",\n",
       " \"Invalid response object from API: '' (HTTP response code was 404)\",\n",
       " \"Invalid response object from API: '' (HTTP response code was 404)\",\n",
       " \"Invalid response object from API: '' (HTTP response code was 404)\",\n",
       " \"Invalid response object from API: '' (HTTP response code was 404)\",\n",
       " \"Invalid response object from API: '' (HTTP response code was 404)\",\n",
       " \"Invalid response object from API: '' (HTTP response code was 404)\",\n",
       " \"Invalid response object from API: '' (HTTP response code was 404)\",\n",
       " \"Invalid response object from API: '' (HTTP response code was 404)\",\n",
       " \"Invalid response object from API: '' (HTTP response code was 404)\",\n",
       " \"Invalid response object from API: '' (HTTP response code was 404)\",\n",
       " \"Invalid response object from API: '' (HTTP response code was 404)\",\n",
       " \"Invalid response object from API: '' (HTTP response code was 404)\",\n",
       " \"Invalid response object from API: '' (HTTP response code was 404)\",\n",
       " \"Invalid response object from API: '' (HTTP response code was 404)\",\n",
       " \"Invalid response object from API: '' (HTTP response code was 404)\",\n",
       " \"Invalid response object from API: '' (HTTP response code was 404)\",\n",
       " \"Invalid response object from API: '' (HTTP response code was 404)\",\n",
       " \"Invalid response object from API: '' (HTTP response code was 404)\",\n",
       " \"Invalid response object from API: '' (HTTP response code was 404)\",\n",
       " \"Invalid response object from API: '' (HTTP response code was 404)\",\n",
       " \"Invalid response object from API: '' (HTTP response code was 404)\",\n",
       " \"Invalid response object from API: '' (HTTP response code was 404)\",\n",
       " \"Invalid response object from API: '' (HTTP response code was 404)\",\n",
       " \"Invalid response object from API: '' (HTTP response code was 404)\",\n",
       " \"Invalid response object from API: '' (HTTP response code was 404)\",\n",
       " \"Invalid response object from API: '' (HTTP response code was 404)\",\n",
       " \"Invalid response object from API: '' (HTTP response code was 404)\",\n",
       " \"Invalid response object from API: '' (HTTP response code was 404)\",\n",
       " \"Invalid response object from API: '' (HTTP response code was 404)\",\n",
       " \"Invalid response object from API: '' (HTTP response code was 404)\",\n",
       " \"Invalid response object from API: '' (HTTP response code was 404)\",\n",
       " \"Invalid response object from API: '' (HTTP response code was 404)\",\n",
       " \"Invalid response object from API: '' (HTTP response code was 404)\",\n",
       " \"Invalid response object from API: '' (HTTP response code was 404)\",\n",
       " \"Invalid response object from API: '' (HTTP response code was 404)\",\n",
       " \"Invalid response object from API: '' (HTTP response code was 404)\",\n",
       " \"Invalid response object from API: '' (HTTP response code was 404)\",\n",
       " \"Invalid response object from API: '' (HTTP response code was 404)\",\n",
       " \"Invalid response object from API: '' (HTTP response code was 404)\",\n",
       " \"Invalid response object from API: '' (HTTP response code was 404)\",\n",
       " \"Invalid response object from API: '' (HTTP response code was 404)\",\n",
       " \"Invalid response object from API: '' (HTTP response code was 404)\",\n",
       " \"Invalid response object from API: '' (HTTP response code was 404)\",\n",
       " \"Invalid response object from API: '' (HTTP response code was 404)\",\n",
       " \"Invalid response object from API: '' (HTTP response code was 404)\",\n",
       " \"Invalid response object from API: '' (HTTP response code was 404)\",\n",
       " \"Invalid response object from API: '' (HTTP response code was 404)\",\n",
       " \"Invalid response object from API: '' (HTTP response code was 404)\",\n",
       " \"Invalid response object from API: '' (HTTP response code was 404)\",\n",
       " \"Invalid response object from API: '' (HTTP response code was 404)\",\n",
       " \"Invalid response object from API: '' (HTTP response code was 404)\",\n",
       " \"Invalid response object from API: '' (HTTP response code was 404)\",\n",
       " \"Invalid response object from API: '' (HTTP response code was 404)\",\n",
       " \"Invalid response object from API: '' (HTTP response code was 404)\",\n",
       " \"Invalid response object from API: '' (HTTP response code was 404)\",\n",
       " \"Invalid response object from API: '' (HTTP response code was 404)\",\n",
       " \"Invalid response object from API: '' (HTTP response code was 404)\",\n",
       " \"Invalid response object from API: '' (HTTP response code was 404)\",\n",
       " \"Invalid response object from API: '' (HTTP response code was 404)\",\n",
       " \"Invalid response object from API: '' (HTTP response code was 404)\",\n",
       " \"Invalid response object from API: '' (HTTP response code was 404)\",\n",
       " \"Invalid response object from API: '' (HTTP response code was 404)\",\n",
       " \"Invalid response object from API: '' (HTTP response code was 404)\",\n",
       " \"Invalid response object from API: '' (HTTP response code was 404)\",\n",
       " \"Invalid response object from API: '' (HTTP response code was 404)\",\n",
       " \"Invalid response object from API: '' (HTTP response code was 404)\",\n",
       " \"Invalid response object from API: '' (HTTP response code was 404)\",\n",
       " \"Invalid response object from API: '' (HTTP response code was 404)\",\n",
       " \"Invalid response object from API: '' (HTTP response code was 404)\",\n",
       " \"Invalid response object from API: '' (HTTP response code was 404)\",\n",
       " \"Invalid response object from API: '' (HTTP response code was 404)\",\n",
       " \"Invalid response object from API: '' (HTTP response code was 404)\",\n",
       " \"Invalid response object from API: '' (HTTP response code was 404)\",\n",
       " \"Invalid response object from API: '' (HTTP response code was 404)\",\n",
       " \"Invalid response object from API: '' (HTTP response code was 404)\",\n",
       " \"Invalid response object from API: '' (HTTP response code was 404)\",\n",
       " \"Invalid response object from API: '' (HTTP response code was 404)\",\n",
       " \"Invalid response object from API: '' (HTTP response code was 404)\",\n",
       " \"Invalid response object from API: '' (HTTP response code was 404)\",\n",
       " \"Invalid response object from API: '' (HTTP response code was 404)\",\n",
       " \"Invalid response object from API: '' (HTTP response code was 404)\",\n",
       " \"Invalid response object from API: '' (HTTP response code was 404)\",\n",
       " \"Invalid response object from API: '' (HTTP response code was 404)\",\n",
       " \"Invalid response object from API: '' (HTTP response code was 404)\",\n",
       " \"Invalid response object from API: '' (HTTP response code was 404)\",\n",
       " \"Invalid response object from API: '' (HTTP response code was 404)\",\n",
       " \"Invalid response object from API: '' (HTTP response code was 404)\",\n",
       " \"Invalid response object from API: '' (HTTP response code was 404)\",\n",
       " \"Invalid response object from API: '' (HTTP response code was 404)\",\n",
       " \"Invalid response object from API: '' (HTTP response code was 404)\",\n",
       " \"Invalid response object from API: '' (HTTP response code was 404)\",\n",
       " \"Invalid response object from API: '' (HTTP response code was 404)\",\n",
       " \"Invalid response object from API: '' (HTTP response code was 404)\",\n",
       " \"Invalid response object from API: '' (HTTP response code was 404)\",\n",
       " \"Invalid response object from API: '' (HTTP response code was 404)\",\n",
       " \"Invalid response object from API: '' (HTTP response code was 404)\",\n",
       " \"Invalid response object from API: '' (HTTP response code was 404)\",\n",
       " \"Invalid response object from API: '' (HTTP response code was 404)\",\n",
       " \"Invalid response object from API: '' (HTTP response code was 404)\",\n",
       " \"Invalid response object from API: '' (HTTP response code was 404)\",\n",
       " \"Invalid response object from API: '' (HTTP response code was 404)\",\n",
       " \"Invalid response object from API: '' (HTTP response code was 404)\",\n",
       " \"Invalid response object from API: '' (HTTP response code was 404)\",\n",
       " \"Invalid response object from API: '' (HTTP response code was 404)\",\n",
       " \"Invalid response object from API: '' (HTTP response code was 404)\",\n",
       " \"Invalid response object from API: '' (HTTP response code was 404)\",\n",
       " \"Invalid response object from API: '' (HTTP response code was 404)\",\n",
       " \"Invalid response object from API: '' (HTTP response code was 404)\",\n",
       " \"Invalid response object from API: '' (HTTP response code was 404)\",\n",
       " \"Invalid response object from API: '' (HTTP response code was 404)\",\n",
       " \"Invalid response object from API: '' (HTTP response code was 404)\",\n",
       " \"Invalid response object from API: '' (HTTP response code was 404)\",\n",
       " \"Invalid response object from API: '' (HTTP response code was 404)\",\n",
       " \"Invalid response object from API: '' (HTTP response code was 404)\",\n",
       " \"Invalid response object from API: '' (HTTP response code was 404)\",\n",
       " \"Invalid response object from API: '' (HTTP response code was 404)\",\n",
       " \"Invalid response object from API: '' (HTTP response code was 404)\",\n",
       " \"Invalid response object from API: '' (HTTP response code was 404)\",\n",
       " \"Invalid response object from API: '' (HTTP response code was 404)\",\n",
       " \"Invalid response object from API: '' (HTTP response code was 404)\",\n",
       " \"Invalid response object from API: '' (HTTP response code was 404)\",\n",
       " \"Invalid response object from API: '' (HTTP response code was 404)\",\n",
       " \"Invalid response object from API: '' (HTTP response code was 404)\",\n",
       " \"Invalid response object from API: '' (HTTP response code was 404)\",\n",
       " \"Invalid response object from API: '' (HTTP response code was 404)\",\n",
       " \"Invalid response object from API: '' (HTTP response code was 404)\",\n",
       " \"Invalid response object from API: '' (HTTP response code was 404)\",\n",
       " \"Invalid response object from API: '' (HTTP response code was 404)\",\n",
       " \"Invalid response object from API: '' (HTTP response code was 404)\",\n",
       " \"Invalid response object from API: '' (HTTP response code was 404)\",\n",
       " \"Invalid response object from API: '' (HTTP response code was 404)\",\n",
       " \"Invalid response object from API: '' (HTTP response code was 404)\",\n",
       " \"Invalid response object from API: '' (HTTP response code was 404)\",\n",
       " \"Invalid response object from API: '' (HTTP response code was 404)\",\n",
       " \"Invalid response object from API: '' (HTTP response code was 404)\",\n",
       " \"Invalid response object from API: '' (HTTP response code was 404)\",\n",
       " \"Invalid response object from API: '' (HTTP response code was 404)\",\n",
       " \"Invalid response object from API: '' (HTTP response code was 404)\",\n",
       " \"Invalid response object from API: '' (HTTP response code was 404)\",\n",
       " \"Invalid response object from API: '' (HTTP response code was 404)\",\n",
       " \"Invalid response object from API: '' (HTTP response code was 404)\",\n",
       " \"Invalid response object from API: '' (HTTP response code was 404)\",\n",
       " \"Invalid response object from API: '' (HTTP response code was 404)\",\n",
       " \"Invalid response object from API: '' (HTTP response code was 404)\",\n",
       " \"Invalid response object from API: '' (HTTP response code was 404)\",\n",
       " \"Invalid response object from API: '' (HTTP response code was 404)\",\n",
       " \"Invalid response object from API: '' (HTTP response code was 404)\",\n",
       " \"Invalid response object from API: '' (HTTP response code was 404)\",\n",
       " \"Invalid response object from API: '' (HTTP response code was 404)\",\n",
       " \"Invalid response object from API: '' (HTTP response code was 404)\",\n",
       " \"Invalid response object from API: '' (HTTP response code was 404)\",\n",
       " \"Invalid response object from API: '' (HTTP response code was 404)\",\n",
       " \"Invalid response object from API: '' (HTTP response code was 404)\",\n",
       " \"Invalid response object from API: '' (HTTP response code was 404)\",\n",
       " \"Invalid response object from API: '' (HTTP response code was 404)\",\n",
       " \"Invalid response object from API: '' (HTTP response code was 404)\",\n",
       " \"Invalid response object from API: '' (HTTP response code was 404)\",\n",
       " \"Invalid response object from API: '' (HTTP response code was 404)\",\n",
       " \"Invalid response object from API: '' (HTTP response code was 404)\",\n",
       " \"Invalid response object from API: '' (HTTP response code was 404)\",\n",
       " \"Invalid response object from API: '' (HTTP response code was 404)\",\n",
       " \"Invalid response object from API: '' (HTTP response code was 404)\",\n",
       " \"Invalid response object from API: '' (HTTP response code was 404)\",\n",
       " \"Invalid response object from API: '' (HTTP response code was 404)\",\n",
       " \"Invalid response object from API: '' (HTTP response code was 404)\",\n",
       " \"Invalid response object from API: '' (HTTP response code was 404)\",\n",
       " \"Invalid response object from API: '' (HTTP response code was 404)\",\n",
       " \"Invalid response object from API: '' (HTTP response code was 404)\",\n",
       " \"Invalid response object from API: '' (HTTP response code was 404)\",\n",
       " \"Invalid response object from API: '' (HTTP response code was 404)\",\n",
       " \"Invalid response object from API: '' (HTTP response code was 404)\",\n",
       " \"Invalid response object from API: '' (HTTP response code was 404)\",\n",
       " \"Invalid response object from API: '' (HTTP response code was 404)\",\n",
       " \"Invalid response object from API: '' (HTTP response code was 404)\",\n",
       " \"Invalid response object from API: '' (HTTP response code was 404)\",\n",
       " \"Invalid response object from API: '' (HTTP response code was 404)\",\n",
       " \"Invalid response object from API: '' (HTTP response code was 404)\",\n",
       " \"Invalid response object from API: '' (HTTP response code was 404)\",\n",
       " \"Invalid response object from API: '' (HTTP response code was 404)\",\n",
       " \"Invalid response object from API: '' (HTTP response code was 404)\",\n",
       " \"Invalid response object from API: '' (HTTP response code was 404)\",\n",
       " \"Invalid response object from API: '' (HTTP response code was 404)\",\n",
       " \"Invalid response object from API: '' (HTTP response code was 404)\",\n",
       " \"Invalid response object from API: '' (HTTP response code was 404)\",\n",
       " \"Invalid response object from API: '' (HTTP response code was 404)\",\n",
       " \"Invalid response object from API: '' (HTTP response code was 404)\",\n",
       " \"Invalid response object from API: '' (HTTP response code was 404)\",\n",
       " \"Invalid response object from API: '' (HTTP response code was 404)\",\n",
       " \"Invalid response object from API: '' (HTTP response code was 404)\",\n",
       " \"Invalid response object from API: '' (HTTP response code was 404)\",\n",
       " \"Invalid response object from API: '' (HTTP response code was 404)\",\n",
       " \"Invalid response object from API: '' (HTTP response code was 404)\",\n",
       " \"Invalid response object from API: '' (HTTP response code was 404)\",\n",
       " \"Invalid response object from API: '' (HTTP response code was 404)\",\n",
       " \"Invalid response object from API: '' (HTTP response code was 404)\",\n",
       " \"Invalid response object from API: '' (HTTP response code was 404)\",\n",
       " \"Invalid response object from API: '' (HTTP response code was 404)\",\n",
       " \"Invalid response object from API: '' (HTTP response code was 404)\",\n",
       " \"Invalid response object from API: '' (HTTP response code was 404)\",\n",
       " \"Invalid response object from API: '' (HTTP response code was 404)\",\n",
       " \"Invalid response object from API: '' (HTTP response code was 404)\",\n",
       " \"Invalid response object from API: '' (HTTP response code was 404)\",\n",
       " \"Invalid response object from API: '' (HTTP response code was 404)\",\n",
       " \"Invalid response object from API: '' (HTTP response code was 404)\",\n",
       " \"Invalid response object from API: '' (HTTP response code was 404)\",\n",
       " \"Invalid response object from API: '' (HTTP response code was 404)\",\n",
       " \"Invalid response object from API: '' (HTTP response code was 404)\",\n",
       " \"Invalid response object from API: '' (HTTP response code was 404)\",\n",
       " \"Invalid response object from API: '' (HTTP response code was 404)\",\n",
       " \"Invalid response object from API: '' (HTTP response code was 404)\",\n",
       " \"Invalid response object from API: '' (HTTP response code was 404)\",\n",
       " \"Invalid response object from API: '' (HTTP response code was 404)\",\n",
       " \"Invalid response object from API: '' (HTTP response code was 404)\",\n",
       " \"Invalid response object from API: '' (HTTP response code was 404)\",\n",
       " \"Invalid response object from API: '' (HTTP response code was 404)\",\n",
       " \"Invalid response object from API: '' (HTTP response code was 404)\",\n",
       " \"Invalid response object from API: '' (HTTP response code was 404)\",\n",
       " \"Invalid response object from API: '' (HTTP response code was 404)\",\n",
       " \"Invalid response object from API: '' (HTTP response code was 404)\",\n",
       " \"Invalid response object from API: '' (HTTP response code was 404)\",\n",
       " \"Invalid response object from API: '' (HTTP response code was 404)\"]"
      ]
     },
     "execution_count": 28,
     "metadata": {},
     "output_type": "execute_result"
    }
   ],
   "source": [
    "list(df[df['valid'] == 'Exception']['cause'].to_numpy())"
   ]
  },
  {
   "cell_type": "code",
   "execution_count": null,
   "id": "51469ab5",
   "metadata": {},
   "outputs": [],
   "source": []
  }
 ],
 "metadata": {
  "kernelspec": {
   "display_name": "Python 3 (ipykernel)",
   "language": "python",
   "name": "python3"
  },
  "language_info": {
   "codemirror_mode": {
    "name": "ipython",
    "version": 3
   },
   "file_extension": ".py",
   "mimetype": "text/x-python",
   "name": "python",
   "nbconvert_exporter": "python",
   "pygments_lexer": "ipython3",
   "version": "3.8.13"
  }
 },
 "nbformat": 4,
 "nbformat_minor": 5
}
