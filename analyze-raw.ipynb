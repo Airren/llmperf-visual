{
 "cells": [
  {
   "cell_type": "code",
   "execution_count": 3,
   "id": "dacfe98a-e81b-4089-9506-97a652993b5b",
   "metadata": {
    "tags": []
   },
   "outputs": [],
   "source": [
    "import pandas as pd\n",
    "import time\n",
    "import datetime\n"
   ]
  },
  {
   "cell_type": "code",
   "execution_count": 18,
   "id": "17f7abe9-ed9e-466c-b034-577489aaf98b",
   "metadata": {
    "tags": []
   },
   "outputs": [],
   "source": [
    "df = pd.read_json('anyscale-1694797594_raw.json')"
   ]
  },
  {
   "cell_type": "code",
   "execution_count": 19,
   "id": "56da958f-694d-4e3e-a559-a275ae22d5d4",
   "metadata": {
    "tags": []
   },
   "outputs": [
    {
     "name": "stdout",
     "output_type": "stream",
     "text": [
      "Validity results:\n",
      "valid\n",
      "OK    300\n",
      "Name: count, dtype: int64\n",
      "Clean DF is: 300\n",
      "Mean TTFT: 563 ms (mean tokens in: 435, out: 85)\n",
      "TTFT > 3 s: 0.00%\n",
      "Mean tokens/s throughput (total in+out): 115.31 tok/s\n",
      "Mean tokens/s out: 21.2 tok/s (inter-token latency: 47.2 ms)\n"
     ]
    }
   ],
   "source": [
    "# This is the standard analysis we would do in the real script\n",
    "\n",
    "print('Validity results:')\n",
    "print(df['valid'].value_counts())\n",
    "cdf = df[df.valid !='Exception'].copy()\n",
    "print(f'Clean DF is: {len(cdf)}')\n",
    "cdf['total_tokens_per_s'] = (cdf.tokens_out + cdf.tokens_in)/cdf.total_time\n",
    "cdf['out_tokens_per_s'] = cdf.tokens_out/(cdf.total_time-cdf.ttft)\n",
    "mean_tokens_in = cdf['tokens_in'].mean() \n",
    "mean_tokens_out = cdf['tokens_out'].mean() \n",
    "mean_ttft = cdf['ttft'].mean()\n",
    "gt_3_ttft = len(cdf[cdf['ttft'] > 3])/len(cdf)\n",
    "print(f'Mean TTFT: {mean_ttft*1000:.0f} ms (mean tokens in: {mean_tokens_in:.0f}, out: {mean_tokens_out:.0f})')\n",
    "print(f'TTFT > 3 s: {gt_3_ttft*100:.2f}%')\n",
    "print(f'Mean tokens/s throughput (total in+out): {cdf.total_tokens_per_s.mean():.2f} tok/s')  \n",
    "print(f'Mean tokens/s out: {cdf.out_tokens_per_s.mean():.1f} tok/s (inter-token latency: {1/cdf.out_tokens_per_s.mean()*1000:.1f} ms)')     "
   ]
  },
  {
   "cell_type": "code",
   "execution_count": 20,
   "id": "99936985-a21f-4738-9021-f9db8d67769a",
   "metadata": {
    "tags": []
   },
   "outputs": [
    {
     "data": {
      "text/plain": [
       "300"
      ]
     },
     "execution_count": 20,
     "metadata": {},
     "output_type": "execute_result"
    }
   ],
   "source": [
    "len(cdf)"
   ]
  },
  {
   "cell_type": "code",
   "execution_count": 21,
   "id": "4f5db74b-63ab-4268-b1a7-10b14641efb1",
   "metadata": {
    "tags": []
   },
   "outputs": [
    {
     "data": {
      "text/plain": [
       "<Axes: xlabel='tokens_in', ylabel='ttft'>"
      ]
     },
     "execution_count": 21,
     "metadata": {},
     "output_type": "execute_result"
    },
    {
     "data": {
      "image/png": "[encoded data removed]",
      "text/plain": [
       "<Figure size 640x480 with 1 Axes>"
      ]
     },
     "metadata": {},
     "output_type": "display_data"
    }
   ],
   "source": [
    "cdf.plot.scatter(y='ttft', x='tokens_in')"
   ]
  },
  {
   "cell_type": "code",
   "execution_count": null,
   "id": "f08d9085-d994-4754-a545-390cad1f4806",
   "metadata": {},
   "outputs": [],
   "source": []
  },
  {
   "cell_type": "code",
   "execution_count": 12,
   "id": "6f520389-aea3-4f0f-a23a-9094b57251c8",
   "metadata": {
    "tags": []
   },
   "outputs": [
    {
     "data": {
      "text/html": [
       "<div>\n",
       "<style scoped>\n",
       "    .dataframe tbody tr th:only-of-type {\n",
       "        vertical-align: middle;\n",
       "    }\n",
       "\n",
       "    .dataframe tbody tr th {\n",
       "        vertical-align: top;\n",
       "    }\n",
       "\n",
       "    .dataframe thead th {\n",
       "        text-align: right;\n",
       "    }\n",
       "</style>\n",
       "<table border=\"1\" class=\"dataframe\">\n",
       "  <thead>\n",
       "    <tr style=\"text-align: right;\">\n",
       "      <th></th>\n",
       "      <th>ttft</th>\n",
       "      <th>total_time</th>\n",
       "      <th>tokens_in</th>\n",
       "      <th>tokens_out</th>\n",
       "      <th>total_tokens_per_s</th>\n",
       "      <th>out_tokens_per_s</th>\n",
       "    </tr>\n",
       "  </thead>\n",
       "  <tbody>\n",
       "    <tr>\n",
       "      <th>count</th>\n",
       "      <td>300.000000</td>\n",
       "      <td>300.000000</td>\n",
       "      <td>300.000000</td>\n",
       "      <td>300.000000</td>\n",
       "      <td>300.000000</td>\n",
       "      <td>300.000000</td>\n",
       "    </tr>\n",
       "    <tr>\n",
       "      <th>mean</th>\n",
       "      <td>0.054050</td>\n",
       "      <td>4.623993</td>\n",
       "      <td>429.380000</td>\n",
       "      <td>86.480000</td>\n",
       "      <td>114.217682</td>\n",
       "      <td>18.829032</td>\n",
       "    </tr>\n",
       "    <tr>\n",
       "      <th>std</th>\n",
       "      <td>0.034920</td>\n",
       "      <td>1.409166</td>\n",
       "      <td>96.842573</td>\n",
       "      <td>31.525372</td>\n",
       "      <td>24.268009</td>\n",
       "      <td>0.683738</td>\n",
       "    </tr>\n",
       "    <tr>\n",
       "      <th>min</th>\n",
       "      <td>0.026952</td>\n",
       "      <td>3.420823</td>\n",
       "      <td>252.000000</td>\n",
       "      <td>59.000000</td>\n",
       "      <td>51.488587</td>\n",
       "      <td>17.049936</td>\n",
       "    </tr>\n",
       "    <tr>\n",
       "      <th>25%</th>\n",
       "      <td>0.039786</td>\n",
       "      <td>4.246532</td>\n",
       "      <td>357.750000</td>\n",
       "      <td>79.750000</td>\n",
       "      <td>94.031070</td>\n",
       "      <td>18.450175</td>\n",
       "    </tr>\n",
       "    <tr>\n",
       "      <th>50%</th>\n",
       "      <td>0.048394</td>\n",
       "      <td>4.452024</td>\n",
       "      <td>428.500000</td>\n",
       "      <td>82.000000</td>\n",
       "      <td>115.040590</td>\n",
       "      <td>18.898302</td>\n",
       "    </tr>\n",
       "    <tr>\n",
       "      <th>75%</th>\n",
       "      <td>0.055149</td>\n",
       "      <td>4.661083</td>\n",
       "      <td>515.000000</td>\n",
       "      <td>87.000000</td>\n",
       "      <td>133.861550</td>\n",
       "      <td>19.241624</td>\n",
       "    </tr>\n",
       "    <tr>\n",
       "      <th>max</th>\n",
       "      <td>0.287868</td>\n",
       "      <td>18.081677</td>\n",
       "      <td>603.000000</td>\n",
       "      <td>384.000000</td>\n",
       "      <td>174.692456</td>\n",
       "      <td>21.981514</td>\n",
       "    </tr>\n",
       "  </tbody>\n",
       "</table>\n",
       "</div>"
      ],
      "text/plain": [
       "             ttft  total_time   tokens_in  tokens_out  total_tokens_per_s  \\\n",
       "count  300.000000  300.000000  300.000000  300.000000          300.000000   \n",
       "mean     0.054050    4.623993  429.380000   86.480000          114.217682   \n",
       "std      0.034920    1.409166   96.842573   31.525372           24.268009   \n",
       "min      0.026952    3.420823  252.000000   59.000000           51.488587   \n",
       "25%      0.039786    4.246532  357.750000   79.750000           94.031070   \n",
       "50%      0.048394    4.452024  428.500000   82.000000          115.040590   \n",
       "75%      0.055149    4.661083  515.000000   87.000000          133.861550   \n",
       "max      0.287868   18.081677  603.000000  384.000000          174.692456   \n",
       "\n",
       "       out_tokens_per_s  \n",
       "count        300.000000  \n",
       "mean          18.829032  \n",
       "std            0.683738  \n",
       "min           17.049936  \n",
       "25%           18.450175  \n",
       "50%           18.898302  \n",
       "75%           19.241624  \n",
       "max           21.981514  "
      ]
     },
     "execution_count": 12,
     "metadata": {},
     "output_type": "execute_result"
    }
   ],
   "source": [
    "cdf.describe()"
   ]
  },
  {
   "cell_type": "code",
   "execution_count": 13,
   "id": "81c9cdee-028f-448b-9179-04aa758e4f37",
   "metadata": {
    "tags": []
   },
   "outputs": [
    {
     "data": {
      "text/plain": [
       "<Axes: ylabel='Frequency'>"
      ]
     },
     "execution_count": 13,
     "metadata": {},
     "output_type": "execute_result"
    },
    {
     "data": {
      "image/png": "[encoded data removed]",
      "text/plain": [
       "<Figure size 640x480 with 1 Axes>"
      ]
     },
     "metadata": {},
     "output_type": "display_data"
    }
   ],
   "source": [
    "cdf['ttft'].plot.hist(bins=50)"
   ]
  },
  {
   "cell_type": "code",
   "execution_count": 14,
   "id": "cd59c882",
   "metadata": {},
   "outputs": [
    {
     "data": {
      "text/plain": [
       "[]"
      ]
     },
     "execution_count": 14,
     "metadata": {},
     "output_type": "execute_result"
    }
   ],
   "source": [
    "list(df[df['valid'] == 'Exception']['cause'].to_numpy())"
   ]
  },
  {
   "cell_type": "code",
   "execution_count": null,
   "id": "51469ab5",
   "metadata": {},
   "outputs": [],
   "source": []
  }
 ],
 "metadata": {
  "kernelspec": {
   "display_name": "Python 3 (ipykernel)",
   "language": "python",
   "name": "python3"
  },
  "language_info": {
   "codemirror_mode": {
    "name": "ipython",
    "version": 3
   },
   "file_extension": ".py",
   "mimetype": "text/x-python",
   "name": "python",
   "nbconvert_exporter": "python",
   "pygments_lexer": "ipython3",
   "version": "3.8.13"
  }
 },
 "nbformat": 4,
 "nbformat_minor": 5
}
