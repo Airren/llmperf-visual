{
 "cells": [
  {
   "cell_type": "code",
   "execution_count": null,
   "id": "dacfe98a-e81b-4089-9506-97a652993b5b",
   "metadata": {
    "tags": []
   },
   "outputs": [],
   "source": [
    "import pandas as pd\n",
    "import time\n",
    "import datetime\n"
   ]
  },
  {
   "cell_type": "code",
   "execution_count": null,
   "id": "17f7abe9-ed9e-466c-b034-577489aaf98b",
   "metadata": {
    "tags": []
   },
   "outputs": [],
   "source": [
    "df = pd.read_json('anyscale-1696962745_raw.json')"
   ]
  },
  {
   "cell_type": "code",
   "execution_count": null,
   "id": "56da958f-694d-4e3e-a559-a275ae22d5d4",
   "metadata": {
    "tags": []
   },
   "outputs": [],
   "source": [
    "# This is the standard analysis we would do in the real script\n",
    "\n",
    "print('Validity results:')\n",
    "print(df['valid'].value_counts())\n",
    "cdf = df[df.valid !='Exception'].copy()\n",
    "print(f'Clean DF is: {len(cdf)}')\n",
    "cdf['total_tokens_per_s'] = (cdf.tokens_out + cdf.tokens_in)/cdf.total_time\n",
    "cdf['out_tokens_per_s'] = cdf.tokens_out/(cdf.total_time-cdf.ttft)\n",
    "mean_tokens_in = cdf['tokens_in'].mean() \n",
    "mean_tokens_out = cdf['tokens_out'].mean() \n",
    "mean_ttft = cdf['ttft'].mean()\n",
    "gt_3_ttft = len(cdf[cdf['ttft'] > 3])/len(cdf)\n",
    "print(f'Mean TTFT: {mean_ttft*1000:.0f} ms (mean tokens in: {mean_tokens_in:.0f}, out: {mean_tokens_out:.0f})')\n",
    "print(f'TTFT > 3 s: {gt_3_ttft*100:.2f}%')\n",
    "print(f'Mean tokens/s throughput (total in+out): {cdf.total_tokens_per_s.mean():.2f} tok/s')  \n",
    "print(f'Mean tokens/s out: {cdf.out_tokens_per_s.mean():.1f} tok/s (inter-token latency: {1/cdf.out_tokens_per_s.mean()*1000:.1f} ms)')     "
   ]
  },
  {
   "cell_type": "code",
   "execution_count": null,
   "id": "99936985-a21f-4738-9021-f9db8d67769a",
   "metadata": {
    "tags": []
   },
   "outputs": [],
   "source": [
    "len(cdf)"
   ]
  },
  {
   "cell_type": "code",
   "execution_count": null,
   "id": "4f5db74b-63ab-4268-b1a7-10b14641efb1",
   "metadata": {
    "tags": []
   },
   "outputs": [],
   "source": [
    "cdf.plot.scatter(y='ttft', x='tokens_in')"
   ]
  },
  {
   "cell_type": "code",
   "execution_count": null,
   "id": "f08d9085-d994-4754-a545-390cad1f4806",
   "metadata": {},
   "outputs": [],
   "source": [
    "cdf.plot.scatter(y='total_time', x='tokens_out')"
   ]
  },
  {
   "cell_type": "code",
   "execution_count": null,
   "id": "6f520389-aea3-4f0f-a23a-9094b57251c8",
   "metadata": {
    "tags": []
   },
   "outputs": [],
   "source": [
    "cdf.describe()"
   ]
  },
  {
   "cell_type": "code",
   "execution_count": null,
   "id": "81c9cdee-028f-448b-9179-04aa758e4f37",
   "metadata": {
    "tags": []
   },
   "outputs": [],
   "source": [
    "cdf['ttft'].plot.hist(bins=50)"
   ]
  },
  {
   "cell_type": "code",
   "execution_count": null,
   "id": "cd59c882",
   "metadata": {},
   "outputs": [],
   "source": [
    "list(df[df['valid'] == 'Exception']['cause'].to_numpy())"
   ]
  },
  {
   "cell_type": "code",
   "execution_count": null,
   "id": "51469ab5",
   "metadata": {},
   "outputs": [],
   "source": []
  }
 ],
 "metadata": {
  "kernelspec": {
   "display_name": "Python 3 (ipykernel)",
   "language": "python",
   "name": "python3"
  },
  "language_info": {
   "codemirror_mode": {
    "name": "ipython",
    "version": 3
   },
   "file_extension": ".py",
   "mimetype": "text/x-python",
   "name": "python",
   "nbconvert_exporter": "python",
   "pygments_lexer": "ipython3",
   "version": "3.8.13"
  }
 },
 "nbformat": 4,
 "nbformat_minor": 5
}
